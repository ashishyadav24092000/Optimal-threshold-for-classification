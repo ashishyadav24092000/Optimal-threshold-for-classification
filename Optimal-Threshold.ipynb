{
 "cells": [
  {
   "cell_type": "markdown",
   "id": "2b5aeb55",
   "metadata": {},
   "source": [
    "## Select the Right Threshold values using ROC Curve."
   ]
  },
  {
   "cell_type": "code",
   "execution_count": 1,
   "id": "8d236bd9",
   "metadata": {},
   "outputs": [],
   "source": [
    "## importing the libraries\n",
    "\n",
    "import pandas as pd\n",
    "import numpy as np\n",
    "import matplotlib.pyplot as plt\n",
    "%matplotlib inline\n",
    "import seaborn as sns"
   ]
  },
  {
   "cell_type": "code",
   "execution_count": 2,
   "id": "ec0a46d8",
   "metadata": {},
   "outputs": [],
   "source": [
    "## importing the dataset\n",
    "\n",
    "from sklearn.datasets import make_classification\n",
    "x,y = make_classification(n_samples=2000,n_classes=2,weights=[1,1],random_state=1)"
   ]
  },
  {
   "cell_type": "code",
   "execution_count": 3,
   "id": "a4152512",
   "metadata": {},
   "outputs": [
    {
     "data": {
      "text/plain": [
       "(2000, 20)"
      ]
     },
     "execution_count": 3,
     "metadata": {},
     "output_type": "execute_result"
    }
   ],
   "source": [
    "x.shape"
   ]
  },
  {
   "cell_type": "code",
   "execution_count": 4,
   "id": "9b6869bb",
   "metadata": {},
   "outputs": [
    {
     "data": {
      "text/plain": [
       "(2000,)"
      ]
     },
     "execution_count": 4,
     "metadata": {},
     "output_type": "execute_result"
    }
   ],
   "source": [
    "y.shape"
   ]
  },
  {
   "cell_type": "code",
   "execution_count": 5,
   "id": "375472cf",
   "metadata": {},
   "outputs": [
    {
     "name": "stdout",
     "output_type": "stream",
     "text": [
      "[[-0.62070677  1.39769519  0.1034997  ... -0.34409714  0.62197727\n",
      "  -1.79645246]\n",
      " [ 0.90592186  1.9199751  -0.7783715  ... -1.30560469 -1.54476766\n",
      "  -0.24532071]\n",
      " [ 0.27902104  0.85887666  1.20780417 ...  2.50374447 -0.16497195\n",
      "  -1.95912025]\n",
      " ...\n",
      " [ 0.40426899 -0.61988039  0.87588292 ...  0.61529851  0.97573222\n",
      "   1.77717222]\n",
      " [-0.02512151 -1.05618212 -0.2345739  ... -1.6839064  -0.33327389\n",
      "   1.13979455]\n",
      " [-1.46739126 -0.12314487  0.66858242 ...  1.92945851 -0.97878106\n",
      "  -2.77522263]]\n"
     ]
    }
   ],
   "source": [
    "## independent features\n",
    "print(x)"
   ]
  },
  {
   "cell_type": "code",
   "execution_count": 6,
   "id": "b7cfd9ad",
   "metadata": {},
   "outputs": [
    {
     "name": "stdout",
     "output_type": "stream",
     "text": [
      "[0 0 0 ... 1 1 0]\n"
     ]
    }
   ],
   "source": [
    "## target or dependent features\n",
    "print(y)"
   ]
  },
  {
   "cell_type": "code",
   "execution_count": 7,
   "id": "8078ed18",
   "metadata": {},
   "outputs": [],
   "source": [
    "##Training and testing of model begins\n",
    "from sklearn.model_selection import train_test_split\n",
    "x_train,x_test,y_train,y_test = train_test_split(x,y,test_size=0.3,random_state=1)"
   ]
  },
  {
   "cell_type": "code",
   "execution_count": 8,
   "id": "c3467544",
   "metadata": {},
   "outputs": [],
   "source": [
    "from sklearn.metrics import roc_curve\n",
    "from sklearn.metrics import roc_auc_score"
   ]
  },
  {
   "cell_type": "markdown",
   "id": "b7460abe",
   "metadata": {},
   "source": [
    "1. Random Forest classification"
   ]
  },
  {
   "cell_type": "code",
   "execution_count": 9,
   "id": "70cbeb04",
   "metadata": {},
   "outputs": [
    {
     "name": "stdout",
     "output_type": "stream",
     "text": [
      "For RF train roc auc score is : 1.0\n",
      "For RF test roc auc score is : 0.9842000000000001\n"
     ]
    }
   ],
   "source": [
    "from sklearn.ensemble import RandomForestClassifier\n",
    "\n",
    "rf_model = RandomForestClassifier()\n",
    "rf_model.fit(x_train,y_train)\n",
    "ytrain_pred = rf_model.predict_proba(x_train)\n",
    "print(\"For RF train roc auc score is : {}\".format(roc_auc_score(y_train,ytrain_pred[:,1])))\n",
    "ytest_pred = rf_model.predict_proba(x_test)\n",
    "print(\"For RF test roc auc score is : {}\".format(roc_auc_score(y_test,ytest_pred[:,1])))"
   ]
  },
  {
   "cell_type": "code",
   "execution_count": 10,
   "id": "457df4ce",
   "metadata": {},
   "outputs": [
    {
     "name": "stdout",
     "output_type": "stream",
     "text": [
      "predicted y for training dataset: \n",
      " [[1.   0.  ]\n",
      " [0.97 0.03]\n",
      " [0.03 0.97]\n",
      " ...\n",
      " [0.97 0.03]\n",
      " [1.   0.  ]\n",
      " [0.27 0.73]]\n",
      "\n",
      "predicted y for testing dataset: \n",
      " [[0.02 0.98]\n",
      " [0.97 0.03]\n",
      " [0.02 0.98]\n",
      " ...\n",
      " [0.   1.  ]\n",
      " [0.98 0.02]\n",
      " [0.02 0.98]]\n"
     ]
    }
   ],
   "source": [
    "## first & second column is probability of output being 0 and 1 respectively.\n",
    "\n",
    "print(\"predicted y for training dataset: \\n\",ytrain_pred)\n",
    "print(\"\\npredicted y for testing dataset: \\n\",ytest_pred)"
   ]
  },
  {
   "cell_type": "markdown",
   "id": "5f402631",
   "metadata": {},
   "source": [
    "2. Logistics Regression Classification"
   ]
  },
  {
   "cell_type": "code",
   "execution_count": 11,
   "id": "54b5f069",
   "metadata": {},
   "outputs": [
    {
     "name": "stdout",
     "output_type": "stream",
     "text": [
      "For y-train the roc_auc_score is : 0.9863568922694498\n",
      "For y-test the roc-auc-score is : 0.9885777777777777\n"
     ]
    }
   ],
   "source": [
    "from sklearn.linear_model import LogisticRegression\n",
    "\n",
    "log_classifier = LogisticRegression()\n",
    "log_classifier.fit(x_train,y_train)\n",
    "ytrain_predict = log_classifier.predict_proba(x_train)\n",
    "print('For y-train the roc_auc_score is : {}'.format(roc_auc_score(y_train,ytrain_predict[:,1])))\n",
    "ytest_predict = log_classifier.predict_proba(x_test)\n",
    "print(\"For y-test the roc-auc-score is : {}\".format(roc_auc_score(y_test,ytest_predict[:,1])))"
   ]
  },
  {
   "cell_type": "markdown",
   "id": "e5c50016",
   "metadata": {},
   "source": [
    "3. AdaBoost Classification"
   ]
  },
  {
   "cell_type": "code",
   "execution_count": 12,
   "id": "9b228866",
   "metadata": {},
   "outputs": [
    {
     "name": "stdout",
     "output_type": "stream",
     "text": [
      "for y-train the roc-auc-score is : 0.9975081174960356\n",
      "for y-test the roc-auc-score is : 0.9826111111111111\n"
     ]
    }
   ],
   "source": [
    "from sklearn.ensemble import AdaBoostClassifier\n",
    "\n",
    "adaboost = AdaBoostClassifier()\n",
    "adaboost.fit(x_train,y_train)\n",
    "ytrain_pred = adaboost.predict_proba(x_train)\n",
    "print(\"for y-train the roc-auc-score is : {}\".format(roc_auc_score(y_train,ytrain_pred[:,1])))\n",
    "ytest_pred = adaboost.predict_proba(x_test)\n",
    "print(\"for y-test the roc-auc-score is : {}\".format(roc_auc_score(y_test,ytest_pred[:,1])))"
   ]
  },
  {
   "cell_type": "markdown",
   "id": "4d00d2a4",
   "metadata": {},
   "source": [
    "4. K-Nearest-Neighbor(KNN) classifier"
   ]
  },
  {
   "cell_type": "code",
   "execution_count": 13,
   "id": "9213bc12",
   "metadata": {},
   "outputs": [
    {
     "name": "stdout",
     "output_type": "stream",
     "text": [
      "for y-train the roc-auc-score is : 0.981670071491109\n",
      "for y-test the roc-auc-score is : 0.9426111111111111\n"
     ]
    }
   ],
   "source": [
    "from sklearn.neighbors import KNeighborsClassifier\n",
    "\n",
    "knn = KNeighborsClassifier()\n",
    "knn.fit(x_train,y_train)\n",
    "ytrain_pred = knn.predict_proba(x_train)\n",
    "print(\"for y-train the roc-auc-score is : {}\".format(roc_auc_score(y_train,ytrain_pred[:,1])))\n",
    "ytest_pred = knn.predict_proba(x_test)\n",
    "print(\"for y-test the roc-auc-score is : {}\".format(roc_auc_score(y_test,ytest_pred[:,1])))"
   ]
  },
  {
   "cell_type": "markdown",
   "id": "ab5d1093",
   "metadata": {},
   "source": [
    "### Now,Selecting the best Threshold Value for maximum accuracy"
   ]
  },
  {
   "attachments": {
    "Screenshot%20from%202022-07-27%2023-34-30.png": {
     "image/png": "[encoded data removed]"
    }
   },
   "cell_type": "markdown",
   "id": "c072483f",
   "metadata": {},
   "source": [
    "![Screenshot%20from%202022-07-27%2023-34-30.png](attachment:Screenshot%20from%202022-07-27%2023-34-30.png)"
   ]
  },
  {
   "cell_type": "code",
   "execution_count": 14,
   "id": "d1d9d66e",
   "metadata": {},
   "outputs": [
    {
     "name": "stdout",
     "output_type": "stream",
     "text": [
      "[0      0.98\n",
      "1      0.03\n",
      "2      0.98\n",
      "3      0.94\n",
      "4      0.54\n",
      "       ... \n",
      "595    0.01\n",
      "596    0.00\n",
      "597    1.00\n",
      "598    0.02\n",
      "599    0.98\n",
      "Length: 600, dtype: float64, 0      0.991861\n",
      "1      0.000008\n",
      "2      0.966929\n",
      "3      0.761539\n",
      "4      0.779443\n",
      "         ...   \n",
      "595    0.024239\n",
      "596    0.000003\n",
      "597    0.984385\n",
      "598    0.001147\n",
      "599    0.989540\n",
      "Length: 600, dtype: float64, 0      0.559186\n",
      "1      0.463282\n",
      "2      0.538202\n",
      "3      0.509875\n",
      "4      0.490344\n",
      "         ...   \n",
      "595    0.461121\n",
      "596    0.441377\n",
      "597    0.532403\n",
      "598    0.441720\n",
      "599    0.559890\n",
      "Length: 600, dtype: float64, 0      1.0\n",
      "1      0.0\n",
      "2      0.8\n",
      "3      0.8\n",
      "4      0.4\n",
      "      ... \n",
      "595    0.0\n",
      "596    0.0\n",
      "597    1.0\n",
      "598    0.2\n",
      "599    0.8\n",
      "Length: 600, dtype: float64]\n"
     ]
    }
   ],
   "source": [
    "pred = []\n",
    "\n",
    "for model in [rf_model,log_classifier,adaboost,knn]:\n",
    "    pred.append(pd.Series(model.predict_proba(x_test)[:,1]))\n",
    "print(pred)"
   ]
  },
  {
   "cell_type": "code",
   "execution_count": 15,
   "id": "2fefbca3",
   "metadata": {},
   "outputs": [
    {
     "data": {
      "text/html": [
       "<div>\n",
       "<style scoped>\n",
       "    .dataframe tbody tr th:only-of-type {\n",
       "        vertical-align: middle;\n",
       "    }\n",
       "\n",
       "    .dataframe tbody tr th {\n",
       "        vertical-align: top;\n",
       "    }\n",
       "\n",
       "    .dataframe thead th {\n",
       "        text-align: right;\n",
       "    }\n",
       "</style>\n",
       "<table border=\"1\" class=\"dataframe\">\n",
       "  <thead>\n",
       "    <tr style=\"text-align: right;\">\n",
       "      <th></th>\n",
       "      <th>RandomForest</th>\n",
       "      <th>LogisticRegression</th>\n",
       "      <th>AdaBoostClassifier</th>\n",
       "      <th>KNN</th>\n",
       "    </tr>\n",
       "  </thead>\n",
       "  <tbody>\n",
       "    <tr>\n",
       "      <th>0</th>\n",
       "      <td>0.98</td>\n",
       "      <td>0.991861</td>\n",
       "      <td>0.559186</td>\n",
       "      <td>1.0</td>\n",
       "    </tr>\n",
       "    <tr>\n",
       "      <th>1</th>\n",
       "      <td>0.03</td>\n",
       "      <td>0.000008</td>\n",
       "      <td>0.463282</td>\n",
       "      <td>0.0</td>\n",
       "    </tr>\n",
       "    <tr>\n",
       "      <th>2</th>\n",
       "      <td>0.98</td>\n",
       "      <td>0.966929</td>\n",
       "      <td>0.538202</td>\n",
       "      <td>0.8</td>\n",
       "    </tr>\n",
       "    <tr>\n",
       "      <th>3</th>\n",
       "      <td>0.94</td>\n",
       "      <td>0.761539</td>\n",
       "      <td>0.509875</td>\n",
       "      <td>0.8</td>\n",
       "    </tr>\n",
       "    <tr>\n",
       "      <th>4</th>\n",
       "      <td>0.54</td>\n",
       "      <td>0.779443</td>\n",
       "      <td>0.490344</td>\n",
       "      <td>0.4</td>\n",
       "    </tr>\n",
       "    <tr>\n",
       "      <th>...</th>\n",
       "      <td>...</td>\n",
       "      <td>...</td>\n",
       "      <td>...</td>\n",
       "      <td>...</td>\n",
       "    </tr>\n",
       "    <tr>\n",
       "      <th>595</th>\n",
       "      <td>0.01</td>\n",
       "      <td>0.024239</td>\n",
       "      <td>0.461121</td>\n",
       "      <td>0.0</td>\n",
       "    </tr>\n",
       "    <tr>\n",
       "      <th>596</th>\n",
       "      <td>0.00</td>\n",
       "      <td>0.000003</td>\n",
       "      <td>0.441377</td>\n",
       "      <td>0.0</td>\n",
       "    </tr>\n",
       "    <tr>\n",
       "      <th>597</th>\n",
       "      <td>1.00</td>\n",
       "      <td>0.984385</td>\n",
       "      <td>0.532403</td>\n",
       "      <td>1.0</td>\n",
       "    </tr>\n",
       "    <tr>\n",
       "      <th>598</th>\n",
       "      <td>0.02</td>\n",
       "      <td>0.001147</td>\n",
       "      <td>0.441720</td>\n",
       "      <td>0.2</td>\n",
       "    </tr>\n",
       "    <tr>\n",
       "      <th>599</th>\n",
       "      <td>0.98</td>\n",
       "      <td>0.989540</td>\n",
       "      <td>0.559890</td>\n",
       "      <td>0.8</td>\n",
       "    </tr>\n",
       "  </tbody>\n",
       "</table>\n",
       "<p>600 rows × 4 columns</p>\n",
       "</div>"
      ],
      "text/plain": [
       "     RandomForest  LogisticRegression  AdaBoostClassifier  KNN\n",
       "0            0.98            0.991861            0.559186  1.0\n",
       "1            0.03            0.000008            0.463282  0.0\n",
       "2            0.98            0.966929            0.538202  0.8\n",
       "3            0.94            0.761539            0.509875  0.8\n",
       "4            0.54            0.779443            0.490344  0.4\n",
       "..            ...                 ...                 ...  ...\n",
       "595          0.01            0.024239            0.461121  0.0\n",
       "596          0.00            0.000003            0.441377  0.0\n",
       "597          1.00            0.984385            0.532403  1.0\n",
       "598          0.02            0.001147            0.441720  0.2\n",
       "599          0.98            0.989540            0.559890  0.8\n",
       "\n",
       "[600 rows x 4 columns]"
      ]
     },
     "execution_count": 15,
     "metadata": {},
     "output_type": "execute_result"
    }
   ],
   "source": [
    "## ROC-AUC-SCORE for all the 4 models in 4 columns\n",
    "\n",
    "final_prediction = pd.concat(pred,axis=1)\n",
    "final_prediction.columns  = ['RandomForest','LogisticRegression','AdaBoostClassifier','KNN']\n",
    "final_prediction"
   ]
  },
  {
   "cell_type": "code",
   "execution_count": 16,
   "id": "37082a36",
   "metadata": {},
   "outputs": [
    {
     "data": {
      "text/plain": [
       "0      0.882762\n",
       "1      0.123323\n",
       "2      0.821283\n",
       "3      0.752853\n",
       "4      0.552447\n",
       "         ...   \n",
       "595    0.123840\n",
       "596    0.110345\n",
       "597    0.879197\n",
       "598    0.165717\n",
       "599    0.832357\n",
       "Length: 600, dtype: float64"
      ]
     },
     "execution_count": 16,
     "metadata": {},
     "output_type": "execute_result"
    }
   ],
   "source": [
    "## taking the mean of predictions made by all four models\n",
    "\n",
    "final_prediction = final_prediction.mean(axis=1) \n",
    "final_prediction"
   ]
  },
  {
   "cell_type": "code",
   "execution_count": 17,
   "id": "40aae228",
   "metadata": {},
   "outputs": [
    {
     "name": "stdout",
     "output_type": "stream",
     "text": [
      "SO combined test roc-auc: 0.9852444444444444\n"
     ]
    }
   ],
   "source": [
    "print(\"SO combined test roc-auc: {}\".format(roc_auc_score(y_test,final_prediction)))"
   ]
  },
  {
   "attachments": {
    "Screenshot%20from%202022-07-28%2000-05-54.png": {
     "image/png": "[encoded data removed]"
    }
   },
   "cell_type": "markdown",
   "id": "15f10791",
   "metadata": {},
   "source": [
    "## Choosing the no. of threshold concept in below cell:\n",
    "![Screenshot%20from%202022-07-28%2000-05-54.png](attachment:Screenshot%20from%202022-07-28%2000-05-54.png)"
   ]
  },
  {
   "cell_type": "code",
   "execution_count": 18,
   "id": "b3014c74",
   "metadata": {},
   "outputs": [
    {
     "data": {
      "text/plain": [
       "array([1.90938114, 0.90938114, 0.90217349, 0.90077475, 0.79631489,\n",
       "       0.79412833, 0.79311406, 0.7930558 , 0.77492916, 0.77321156,\n",
       "       0.73347083, 0.73287124, 0.72152563, 0.72137362, 0.70749037,\n",
       "       0.70643711, 0.66037883, 0.65243537, 0.60646627, 0.59114346,\n",
       "       0.5896569 , 0.58800386, 0.57558969, 0.56889283, 0.55042732,\n",
       "       0.53219563, 0.51115858, 0.49116892, 0.4496034 , 0.41764281,\n",
       "       0.41629719, 0.34745613, 0.34336612, 0.24217239, 0.24140421,\n",
       "       0.2371341 , 0.23646893, 0.19916474, 0.19848417, 0.11795384,\n",
       "       0.1178351 , 0.10625332])"
      ]
     },
     "execution_count": 18,
     "metadata": {},
     "output_type": "execute_result"
    }
   ],
   "source": [
    "## Displaying the ROC-CURVE\n",
    "\n",
    "fpr,tpr,thresholds = roc_curve(y_test,final_prediction)\n",
    "thresholds"
   ]
  },
  {
   "cell_type": "code",
   "execution_count": 19,
   "id": "e9f77c34",
   "metadata": {},
   "outputs": [
    {
     "data": {
      "text/plain": [
       "array([0.        , 0.        , 0.        , 0.00333333, 0.00333333,\n",
       "       0.00666667, 0.00666667, 0.01      , 0.01      , 0.01333333,\n",
       "       0.01333333, 0.01666667, 0.01666667, 0.02      , 0.02      ,\n",
       "       0.02333333, 0.02333333, 0.02666667, 0.02666667, 0.03666667,\n",
       "       0.03666667, 0.04      , 0.04      , 0.04333333, 0.04333333,\n",
       "       0.05      , 0.05      , 0.05333333, 0.05333333, 0.07333333,\n",
       "       0.07333333, 0.10666667, 0.10666667, 0.22666667, 0.22666667,\n",
       "       0.23666667, 0.23666667, 0.31333333, 0.31333333, 0.79666667,\n",
       "       0.79666667, 1.        ])"
      ]
     },
     "execution_count": 19,
     "metadata": {},
     "output_type": "execute_result"
    }
   ],
   "source": [
    "fpr"
   ]
  },
  {
   "cell_type": "code",
   "execution_count": 20,
   "id": "9384b6bb",
   "metadata": {},
   "outputs": [
    {
     "data": {
      "text/plain": [
       "array([0.        , 0.00333333, 0.03666667, 0.03666667, 0.65      ,\n",
       "       0.65      , 0.65666667, 0.65666667, 0.70666667, 0.70666667,\n",
       "       0.81333333, 0.81333333, 0.84      , 0.84      , 0.86      ,\n",
       "       0.86      , 0.9       , 0.9       , 0.92666667, 0.92666667,\n",
       "       0.93      , 0.93      , 0.94666667, 0.94666667, 0.96      ,\n",
       "       0.96      , 0.96666667, 0.96666667, 0.98      , 0.98      ,\n",
       "       0.98333333, 0.98333333, 0.98666667, 0.98666667, 0.99      ,\n",
       "       0.99      , 0.99333333, 0.99333333, 0.99666667, 0.99666667,\n",
       "       1.        , 1.        ])"
      ]
     },
     "execution_count": 20,
     "metadata": {},
     "output_type": "execute_result"
    }
   ],
   "source": [
    "tpr"
   ]
  },
  {
   "cell_type": "code",
   "execution_count": 29,
   "id": "83f59821",
   "metadata": {},
   "outputs": [
    {
     "data": {
      "image/png": "[encoded data removed]",
      "text/plain": [
       "<Figure size 432x288 with 1 Axes>"
      ]
     },
     "metadata": {
      "needs_background": "light"
     },
     "output_type": "display_data"
    }
   ],
   "source": [
    "def plot_roc_curve(fpr, tpr):\n",
    "    plt.plot(fpr, tpr, color='orange', label='ROC')\n",
    "    plt.plot([0, 1], [0, 1], color='darkblue', linestyle='--')\n",
    "    plt.xlabel('False Positive Rate')\n",
    "    plt.ylabel('True Positive Rate')\n",
    "    plt.title('Receiver Operating Characteristic (ROC) Curve')\n",
    "    plt.legend()\n",
    "    plt.show()\n",
    "plot_roc_curve(fpr,tpr)"
   ]
  },
  {
   "cell_type": "code",
   "execution_count": 27,
   "id": "17b6e324",
   "metadata": {},
   "outputs": [
    {
     "data": {
      "text/html": [
       "<div>\n",
       "<style scoped>\n",
       "    .dataframe tbody tr th:only-of-type {\n",
       "        vertical-align: middle;\n",
       "    }\n",
       "\n",
       "    .dataframe tbody tr th {\n",
       "        vertical-align: top;\n",
       "    }\n",
       "\n",
       "    .dataframe thead th {\n",
       "        text-align: right;\n",
       "    }\n",
       "</style>\n",
       "<table border=\"1\" class=\"dataframe\">\n",
       "  <thead>\n",
       "    <tr style=\"text-align: right;\">\n",
       "      <th></th>\n",
       "      <th>thresholds</th>\n",
       "      <th>accuracy</th>\n",
       "    </tr>\n",
       "  </thead>\n",
       "  <tbody>\n",
       "    <tr>\n",
       "      <th>28</th>\n",
       "      <td>0.449603</td>\n",
       "      <td>0.961667</td>\n",
       "    </tr>\n",
       "    <tr>\n",
       "      <th>27</th>\n",
       "      <td>0.491169</td>\n",
       "      <td>0.958333</td>\n",
       "    </tr>\n",
       "    <tr>\n",
       "      <th>26</th>\n",
       "      <td>0.511159</td>\n",
       "      <td>0.956667</td>\n",
       "    </tr>\n",
       "    <tr>\n",
       "      <th>25</th>\n",
       "      <td>0.532196</td>\n",
       "      <td>0.956667</td>\n",
       "    </tr>\n",
       "    <tr>\n",
       "      <th>24</th>\n",
       "      <td>0.550427</td>\n",
       "      <td>0.956667</td>\n",
       "    </tr>\n",
       "    <tr>\n",
       "      <th>29</th>\n",
       "      <td>0.417643</td>\n",
       "      <td>0.955000</td>\n",
       "    </tr>\n",
       "    <tr>\n",
       "      <th>30</th>\n",
       "      <td>0.416297</td>\n",
       "      <td>0.953333</td>\n",
       "    </tr>\n",
       "    <tr>\n",
       "      <th>23</th>\n",
       "      <td>0.568893</td>\n",
       "      <td>0.953333</td>\n",
       "    </tr>\n",
       "    <tr>\n",
       "      <th>22</th>\n",
       "      <td>0.575590</td>\n",
       "      <td>0.951667</td>\n",
       "    </tr>\n",
       "    <tr>\n",
       "      <th>18</th>\n",
       "      <td>0.606466</td>\n",
       "      <td>0.948333</td>\n",
       "    </tr>\n",
       "  </tbody>\n",
       "</table>\n",
       "</div>"
      ],
      "text/plain": [
       "    thresholds  accuracy\n",
       "28    0.449603  0.961667\n",
       "27    0.491169  0.958333\n",
       "26    0.511159  0.956667\n",
       "25    0.532196  0.956667\n",
       "24    0.550427  0.956667\n",
       "29    0.417643  0.955000\n",
       "30    0.416297  0.953333\n",
       "23    0.568893  0.953333\n",
       "22    0.575590  0.951667\n",
       "18    0.606466  0.948333"
      ]
     },
     "execution_count": 27,
     "metadata": {},
     "output_type": "execute_result"
    }
   ],
   "source": [
    "## getting the accuracy score for each threshold\n",
    "\n",
    "from sklearn.metrics import accuracy_score\n",
    "\n",
    "accuracy_list = []\n",
    "for thres in thresholds:\n",
    "    y_pred = np.where(final_prediction>thres,1,0)\n",
    "    accuracy_list.append(accuracy_score(y_test, y_pred, normalize=True))\n",
    "accuracy_list = pd.concat([pd.Series(thresholds),pd.Series(accuracy_list)],axis=1)\n",
    "accuracy_list.columns = ['thresholds','accuracy']\n",
    "accuracy_list.sort_values(by='accuracy', ascending=False, inplace=True)\n",
    "accuracy_list.head(10)"
   ]
  }
 ],
 "metadata": {
  "kernelspec": {
   "display_name": "Python 3",
   "language": "python",
   "name": "python3"
  },
  "language_info": {
   "codemirror_mode": {
    "name": "ipython",
    "version": 3
   },
   "file_extension": ".py",
   "mimetype": "text/x-python",
   "name": "python",
   "nbconvert_exporter": "python",
   "pygments_lexer": "ipython3",
   "version": "3.8.8"
  }
 },
 "nbformat": 4,
 "nbformat_minor": 5
}
